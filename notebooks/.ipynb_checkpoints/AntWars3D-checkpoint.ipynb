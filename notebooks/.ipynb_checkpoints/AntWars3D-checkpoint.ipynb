{
 "cells": [
  {
   "cell_type": "markdown",
   "metadata": {
    "deletable": true,
    "editable": true
   },
   "source": [
    "# Antwars - the 3D Project\n",
    "## Introduction\n",
    "### Purpose\n",
    "As great fans of the Battleships AI project during our first semester, we have been looking forward to taking an entire course in AI during the fourth semester.\n",
    "Unfortunately that course was not in high demand this year, but we wont let that stop us.\n",
    "\n",
    "We decided to make our own 3D strategy game, \n",
    "So far the plan is to create an interface to which future students can write their own AI to run competitive simulations against other students AI.\n",
    "\n",
    "This project is an attempt to create both a 3D Real Time Strategy game and a match framework for future students at Copenhagen Business Academy to practice coding AI in.\n",
    "\n",
    "Jonathan, Rasmus & Michael\n",
    "\n",
    "\n",
    "\n",
    "### plan\n",
    "####\n",
    "\n",
    "## Sources of learning\n",
    "\n",
    "### Navigation\n",
    "https://unity3d.com/learn/tutorials/topics/navigation\n"
   ]
  },
  {
   "cell_type": "markdown",
   "metadata": {
    "deletable": true,
    "editable": true
   },
   "source": []
  }
 ],
 "metadata": {
  "kernelspec": {
   "display_name": "Python 3",
   "language": "python",
   "name": "python3"
  },
  "language_info": {
   "codemirror_mode": {
    "name": "ipython",
    "version": 3
   },
   "file_extension": ".py",
   "mimetype": "text/x-python",
   "name": "python",
   "nbconvert_exporter": "python",
   "pygments_lexer": "ipython3",
   "version": "3.6.0"
  }
 },
 "nbformat": 4,
 "nbformat_minor": 2
}
